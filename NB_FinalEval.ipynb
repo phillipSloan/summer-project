{
 "cells": [
  {
   "cell_type": "code",
   "execution_count": null,
   "id": "7f43bcb7",
   "metadata": {},
   "outputs": [],
   "source": [
    "!pip install -q 'monai[all]'"
   ]
  },
  {
   "cell_type": "code",
   "execution_count": null,
   "id": "96bb6965",
   "metadata": {},
   "outputs": [],
   "source": [
    "!pip install monai==0.9"
   ]
  },
  {
   "cell_type": "code",
   "execution_count": 22,
   "id": "451c306f",
   "metadata": {},
   "outputs": [],
   "source": [
    "def precision_and_recall(pred, target):\n",
    "\n",
    "    smooth = 1e-5 # prevent division by 0\n",
    "\n",
    "    tp = torch.sum(pred * target)  # TP\n",
    "    fp = torch.sum(pred * (1 - target))  # FP\n",
    "    fn = torch.sum((1 - pred) * target)  # FN\n",
    "\n",
    "    precision = tp/(tp + fp + smooth)\n",
    "    recall = tp/(tp + fn + smooth)\n",
    "\n",
    "    return float(precision), float(recall)"
   ]
  },
  {
   "cell_type": "code",
   "execution_count": 2,
   "id": "6a4699ea",
   "metadata": {},
   "outputs": [],
   "source": [
    "import os\n",
    "import gc\n",
    "import glob\n",
    "from pathlib import Path\n",
    "\n",
    "import numpy as np\n",
    "import torch\n",
    "from torch.nn import functional as F\n",
    " \n",
    "from monai.utils import first, set_determinism\n",
    "from monai.transforms import (\n",
    "    AsDiscrete,\n",
    "    AsDiscreted,\n",
    "    EnsureChannelFirstd,\n",
    "    Compose,\n",
    "    CropForegroundd,\n",
    "    LoadImaged,\n",
    "    Orientationd,\n",
    "    RandCropByPosNegLabeld,\n",
    "    Rotated,\n",
    "    SaveImaged,\n",
    "    ScaleIntensityRanged,\n",
    "    Spacingd,\n",
    "    EnsureTyped,\n",
    "    EnsureType,\n",
    "    Invertd,\n",
    "    Rotate90d,\n",
    "    RandRotated,\n",
    "    RandShiftIntensityd,\n",
    "    RandGaussianNoised\n",
    ")\n",
    "# from monai.handlers.utils import from_engine\n",
    "from UNet3D import UNet\n",
    "from AttUNet import AttUNet\n",
    "from TransUNet import TransUNet\n",
    "from monai.networks.nets import SwinUNETR\n",
    "from monai.networks.layers import Norm\n",
    "from monai.metrics import DiceMetric\n",
    "from monai.inferers import sliding_window_inference\n",
    "from monai.data import CacheDataset, DataLoader, Dataset, decollate_batch"
   ]
  },
  {
   "cell_type": "code",
   "execution_count": 3,
   "id": "990e53f0",
   "metadata": {},
   "outputs": [],
   "source": [
    "from meaniou import MeanIoU"
   ]
  },
  {
   "cell_type": "markdown",
   "id": "a696de19",
   "metadata": {},
   "source": [
    "# Change Device to Cuda"
   ]
  },
  {
   "cell_type": "code",
   "execution_count": 4,
   "id": "7d30c154",
   "metadata": {},
   "outputs": [
    {
     "name": "stdout",
     "output_type": "stream",
     "text": [
      "Using device: cuda\n",
      "\n",
      "Tesla T4\n",
      "_CudaDeviceProperties(name='Tesla T4', major=7, minor=5, total_memory=14910MB, multi_processor_count=40)\n",
      "Memory Usage:\n",
      "Allocated: 0.0 GB\n",
      "Cached:    0.0 GB\n"
     ]
    }
   ],
   "source": [
    "device = torch.device('cuda' if torch.cuda.is_available() else 'cpu')\n",
    "print('Using device:', device)\n",
    "print()\n",
    "\n",
    "#Additional Info when using cuda\n",
    "if device.type == 'cuda':\n",
    "    print(torch.cuda.get_device_name(0))\n",
    "    print(torch.cuda.get_device_properties(0))\n",
    "    print('Memory Usage:')\n",
    "    print('Allocated:', round(torch.cuda.memory_allocated(0)/1024**3,1), 'GB')\n",
    "    print('Cached:   ', round(torch.cuda.memory_reserved(0)/1024**3,1), 'GB')"
   ]
  },
  {
   "cell_type": "markdown",
   "id": "de9bf098",
   "metadata": {},
   "source": [
    "# Load Data"
   ]
  },
  {
   "cell_type": "code",
   "execution_count": 5,
   "id": "e4caa7b6",
   "metadata": {},
   "outputs": [],
   "source": [
    "def get_paths(mask):\n",
    "    data_dir = os.path.join(os.getcwd(), 'data/train')\n",
    "    tmp = []\n",
    "    for path in Path(data_dir).rglob(mask):\n",
    "        tmp.append(path.resolve())\n",
    "    return tmp"
   ]
  },
  {
   "cell_type": "code",
   "execution_count": 25,
   "id": "57453ba7",
   "metadata": {},
   "outputs": [],
   "source": [
    "training_dir = os.path.join(os.getcwd(), 'metrics')\n",
    "\n",
    "checkpoint = torch.load('postpretrained-att-unet_model_and_optim')#,map_location=torch.device('cpu')) \n",
    "\n",
    "import pickle\n",
    "with open(\"datasplit\", \"rb\") as f:\n",
    "    saved_lists = pickle.load(f)\n",
    "    \n",
    "train_files, val_files = saved_lists"
   ]
  },
  {
   "cell_type": "code",
   "execution_count": null,
   "id": "4f3acdb2",
   "metadata": {},
   "outputs": [],
   "source": [
    "checkpoint['epoch']"
   ]
  },
  {
   "cell_type": "code",
   "execution_count": null,
   "id": "9b0d7aad",
   "metadata": {},
   "outputs": [],
   "source": [
    "print(len(train_files))\n",
    "print(len(val_files))"
   ]
  },
  {
   "cell_type": "markdown",
   "id": "3cf35857",
   "metadata": {},
   "source": [
    "# Transforms using Monai"
   ]
  },
  {
   "cell_type": "code",
   "execution_count": 7,
   "id": "c55c05f7",
   "metadata": {},
   "outputs": [],
   "source": [
    "val_transforms = Compose(\n",
    "    [\n",
    "        LoadImaged(keys=[\"image\", \"label\"]), # Load image file or files from provided path based on reader.\n",
    "        EnsureChannelFirstd(keys=[\"image\", \"label\"]), #adds a channel dimension if the data doesn't have one ... torch.Size([1, ...]) = torch.Size([1, 1, ...\n",
    "        Orientationd(keys=[\"image\", \"label\"], axcodes=\"LPS\"),\n",
    "        Rotate90d(keys=[\"image\", \"label\"], k=1, spatial_axes=(0,2)), # rotate data so it looks like it should do? ... doesn't feel right when viewing otherwise\n",
    "        ScaleIntensityRanged(\n",
    "            keys=[\"image\"], a_min=0.0, a_max=302.0,\n",
    "            b_min=0.0, b_max=1.0, clip=True,\n",
    "        ),\n",
    "        EnsureTyped(keys=[\"image\", \"label\"]) # converts the data to a pytorch tensor\n",
    "    ]\n",
    ")\n",
    "        \n",
    "cropper = RandCropByPosNegLabeld(\n",
    "    keys=[\"image\", \"label\"],\n",
    "    label_key=\"label\",\n",
    "    spatial_size=(96, 96, 96),   # provides size of each image within the batch\n",
    "    pos=1,      # pos / (pos + neg) = ratio of postivie and negative samples picked... \n",
    "    neg=1,      # with pos = neg = 1, ratio = 0.5 so it picks equal pos (stoke) and neg (no stroke) for sample.\n",
    "    num_samples=4,   # number of smaller volumes to create from the original volume\n",
    "    image_key=\"image\",\n",
    "    image_threshold=0,\n",
    ")"
   ]
  },
  {
   "cell_type": "markdown",
   "id": "a260bb40",
   "metadata": {},
   "source": [
    "# Helper Functions"
   ]
  },
  {
   "cell_type": "code",
   "execution_count": 8,
   "id": "c1336fff",
   "metadata": {},
   "outputs": [],
   "source": [
    "def rand_crop(images, labels, cropper):\n",
    "    cropped_inputs = []\n",
    "    cropped_labels = []\n",
    "    assert images.shape[0] == labels.shape[0]\n",
    "    for i in range(images.shape[0]):\n",
    "        pair =  {\"image\": images[i], \"label\":labels[i]}\n",
    "        out = cropper(pair)\n",
    "        for i in range(len(out)):\n",
    "            cropped_inputs.append(out[i]['image'])\n",
    "            cropped_labels.append(out[i]['label'])\n",
    "    imgs = torch.stack(cropped_inputs)\n",
    "    lbls = torch.stack(cropped_labels)\n",
    "    return imgs, lbls"
   ]
  },
  {
   "cell_type": "code",
   "execution_count": 9,
   "id": "a041fe0c",
   "metadata": {},
   "outputs": [
    {
     "name": "stderr",
     "output_type": "stream",
     "text": [
      "Loading dataset: 100%|██████████| 130/130 [00:26<00:00,  4.93it/s]\n"
     ]
    }
   ],
   "source": [
    "if device.type == 'cuda':\n",
    "    val_ds = CacheDataset(\n",
    "        data=val_files, \n",
    "        transform=val_transforms, \n",
    "        cache_rate=1.0, \n",
    "        num_workers=4\n",
    "    )\n",
    "else:\n",
    "    val_ds = Dataset(data=val_files, transform=transforms)\n",
    "    \n",
    "val_loader = DataLoader(val_ds, batch_size=1, num_workers=4)"
   ]
  },
  {
   "cell_type": "code",
   "execution_count": 24,
   "id": "dbdb3af7",
   "metadata": {},
   "outputs": [],
   "source": [
    "# model = UNet().to(device)\n",
    "\n",
    "# model = AttUNet().to(device)\n",
    "\n",
    "# model = TransUNet().to(device)\n",
    "\n",
    "model = SwinUNETR(img_size=(96,96,96), in_channels=1, out_channels=2, feature_size=48).to(device)"
   ]
  },
  {
   "cell_type": "code",
   "execution_count": 26,
   "id": "5a8cc8d3",
   "metadata": {},
   "outputs": [
    {
     "data": {
      "text/plain": [
       "<All keys matched successfully>"
      ]
     },
     "execution_count": 26,
     "metadata": {},
     "output_type": "execute_result"
    }
   ],
   "source": [
    "# model.load_state_dict(torch.load(\n",
    "#     os.path.join(training_dir, \"best_metric_model.pth\")))\n",
    "model.load_state_dict(checkpoint['model_state_dict'])"
   ]
  },
  {
   "cell_type": "code",
   "execution_count": 16,
   "id": "c8847b59",
   "metadata": {},
   "outputs": [],
   "source": [
    "dice_metric = DiceMetric(include_background=False, reduction=\"mean\")\n",
    "iou_metric = MeanIoU(include_background=False, reduction=\"mean\")"
   ]
  },
  {
   "cell_type": "code",
   "execution_count": null,
   "id": "a9cad4a1",
   "metadata": {},
   "outputs": [],
   "source": [
    "post_pred = Compose([EnsureType(), AsDiscrete(argmax=True, to_onehot=2)])\n",
    "post_label = Compose([EnsureType(), AsDiscrete(to_onehot=2)])\n",
    "pres_recall = []\n",
    "\n",
    "model.eval()\n",
    "with torch.no_grad():\n",
    "    for val_data in val_loader:\n",
    "        val_inputs, val_labels = (\n",
    "            val_data[\"image\"].to(device),\n",
    "            val_data[\"label\"].to(device),\n",
    "        )\n",
    "        roi_size = (96, 96, 96)\n",
    "        sw_batch_size = 4\n",
    "        val_outputs = sliding_window_inference(\n",
    "            val_inputs, roi_size, sw_batch_size, model)\n",
    "        output = torch.argmax(val_outputs, dim=1) # convert the prediction into 0 and 1s\n",
    "        precision, recall = precision_and_recall(pred=output, target=val_labels)\n",
    "        pres_recall.append([precision, recall])\n",
    "        val_outputs = [post_pred(i) for i in decollate_batch(val_outputs)]\n",
    "        val_labels = [post_label(i) for i in decollate_batch(val_labels)]\n",
    "        # compute metric for current iteration\n",
    "        dice_metric(y_pred=val_outputs, y=val_labels)\n",
    "        iou_metric(y_pred=val_outputs, y=val_labels)\n",
    "    # aggregate the final mean dice result\n",
    "    dice_score = dice_metric.aggregate().item()\n",
    "    iou_score = iou_metric.aggregate().item()\n",
    "    # reset the status for next validation round\n",
    "    dice_metric.reset()\n",
    "    iou_metric.reset()\n",
    "    print(dice_score)\n",
    "    print(iou_score)\n",
    "\n",
    "pres_recall = (np.asarray(pres_recall).sum(axis=0)) / len(pres_recall)\n",
    "print(pres_recall)"
   ]
  },
  {
   "cell_type": "code",
   "execution_count": null,
   "id": "21c9cfdf",
   "metadata": {},
   "outputs": [],
   "source": []
  }
 ],
 "metadata": {
  "kernelspec": {
   "display_name": "conda_pytorch_p38",
   "language": "python",
   "name": "conda_pytorch_p38"
  },
  "language_info": {
   "codemirror_mode": {
    "name": "ipython",
    "version": 3
   },
   "file_extension": ".py",
   "mimetype": "text/x-python",
   "name": "python",
   "nbconvert_exporter": "python",
   "pygments_lexer": "ipython3",
   "version": "3.8.12"
  },
  "varInspector": {
   "cols": {
    "lenName": 16,
    "lenType": 16,
    "lenVar": 40
   },
   "kernels_config": {
    "python": {
     "delete_cmd_postfix": "",
     "delete_cmd_prefix": "del ",
     "library": "var_list.py",
     "varRefreshCmd": "print(var_dic_list())"
    },
    "r": {
     "delete_cmd_postfix": ") ",
     "delete_cmd_prefix": "rm(",
     "library": "var_list.r",
     "varRefreshCmd": "cat(var_dic_list()) "
    }
   },
   "types_to_exclude": [
    "module",
    "function",
    "builtin_function_or_method",
    "instance",
    "_Feature"
   ],
   "window_display": false
  }
 },
 "nbformat": 4,
 "nbformat_minor": 5
}
